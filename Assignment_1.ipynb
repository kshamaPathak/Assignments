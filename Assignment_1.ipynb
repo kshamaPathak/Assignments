{
 "cells": [
  {
   "cell_type": "raw",
   "id": "09cd0865",
   "metadata": {},
   "source": [
    "1. In the below elements which of them are values or an expression? eg:- values can be integer or string and expressions will be mathematical operators.\n",
    "* \n",
    "'hello'    = Values\n",
    "-87.8      = Values\n",
    "-          = expression\n",
    "/          = expression\n",
    "+\t       = expression\n",
    "6          =Values\n"
   ]
  },
  {
   "cell_type": "raw",
   "id": "f7c997a2",
   "metadata": {},
   "source": [
    "2. What is the difference between string and variable?\n",
    "Ans: \n",
    "String is a basic form of data type which is mainly a character or a combination of various charachters.\n",
    "To store the Data of a perticular data type need some memory allocation called as a variable.\n",
    "in short variable is a contaner which holds the data value\n",
    " "
   ]
  },
  {
   "cell_type": "raw",
   "id": "8063766e",
   "metadata": {},
   "source": [
    "3. Describe three different data types.\n",
    "\n",
    "Ans: there are mainly three data types int=integer values are stored\n",
    "                                       float= decimal values \n",
    "                                       str= string values\n",
    "                                       \n"
   ]
  },
  {
   "cell_type": "raw",
   "id": "defaa493",
   "metadata": {},
   "source": [
    "4. What is an expression made up of? What do all expressions do?\n",
    "\n",
    "Ans:\n",
    " Expression is nothing but a combination of statement written in code format in which \n",
    " variables,operators collectively performs some task and the result is obtained in a form of new value.\n",
    " we are able to print the expressions.\n",
    " \n",
    " Expressions helps to compute & control the execution of a program...\n",
    " \n",
    " \n"
   ]
  },
  {
   "cell_type": "raw",
   "id": "ef685d7e",
   "metadata": {},
   "source": [
    "5. This assignment statements, like spam = 10. What is the difference between an expression and a statement?\n",
    "\n",
    "Ans:\n",
    "    we cant print the statements without expressions.\n",
    "    eg: if CONDITION\n",
    "        else CONDITION  \n",
    "        \n",
    "        expressions :\n",
    "        var1=10\n",
    "        print(\"var1=\",var1)\n",
    "        "
   ]
  },
  {
   "cell_type": "raw",
   "id": "68576cc0",
   "metadata": {},
   "source": [
    "6. After running the following code, what does the variable bacon contain?\n",
    "\n",
    "bacon = 22\n",
    "bacon + 1\n",
    "\n",
    "Ans:\n",
    "bacon will contain the value as 22 only.. as we have not saved the updated values in bacon."
   ]
  },
  {
   "cell_type": "raw",
   "id": "b853042a",
   "metadata": {},
   "source": [
    "7. What should the values of the following two terms be?\n",
    "Ans: \n",
    "'spam' + 'spamspam' = 'spamspamspam'\n",
    "'spam' * 3 ='spamspamspam'\n",
    "it will be same.. for both operations as concatination 3 times= *3\n"
   ]
  },
  {
   "cell_type": "raw",
   "id": "3d5872e3",
   "metadata": {},
   "source": [
    "8. Why is eggs a valid variable name while 100 is invalid?\n",
    "Ans:\n",
    "100 is a digit and a variable name is not allowed to be start with a digit."
   ]
  },
  {
   "cell_type": "raw",
   "id": "730e6c5e",
   "metadata": {},
   "source": [
    "9. What three functions can be used to get the integer, floating-point number, or string version of a value?\n",
    "Ans:\n",
    "int(value)\n",
    "float(value)\n",
    "str(value)\n",
    "\n",
    "are the three functions used to get the int ,float or a string version .\n"
   ]
  },
  {
   "cell_type": "raw",
   "id": "64b2eb06",
   "metadata": {},
   "source": [
    "10. Why does this expression cause an error? How can you fix it?\n",
    "'I have eaten ' + 99 + ' burritos.'\n",
    "Ans:\n",
    "we will get the error as str & int will not be able to concatinate\n",
    "we can convert 99 int value to str value & then execute it.\n",
    "eg: 'I have eaten ' + str(99) + ' burritos.'\n",
    "     :"
   ]
  },
  {
   "cell_type": "code",
   "execution_count": null,
   "id": "9ea168b0",
   "metadata": {},
   "outputs": [],
   "source": [
    "                                                                                                                          \n",
    "        "
   ]
  }
 ],
 "metadata": {
  "kernelspec": {
   "display_name": "Python 3 (ipykernel)",
   "language": "python",
   "name": "python3"
  },
  "language_info": {
   "codemirror_mode": {
    "name": "ipython",
    "version": 3
   },
   "file_extension": ".py",
   "mimetype": "text/x-python",
   "name": "python",
   "nbconvert_exporter": "python",
   "pygments_lexer": "ipython3",
   "version": "3.9.7"
  }
 },
 "nbformat": 4,
 "nbformat_minor": 5
}
